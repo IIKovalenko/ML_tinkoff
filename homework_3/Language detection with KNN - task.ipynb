{
 "cells": [
  {
   "cell_type": "markdown",
   "metadata": {},
   "source": [
    "# Laguage detection task"
   ]
  },
  {
   "cell_type": "code",
   "execution_count": 433,
   "metadata": {
    "collapsed": true
   },
   "outputs": [],
   "source": [
    "import pandas as pd\n",
    "import numpy as np\n",
    "from sklearn.metrics import accuracy_score\n",
    "import matplotlib.pyplot as plt\n",
    "%matplotlib inline"
   ]
  },
  {
   "cell_type": "markdown",
   "metadata": {},
   "source": [
    "#### In this task objects will be words either in English or in French, and you will have to implement K-NN classifier predicting the language of each word by its Levenstein (edit) distance to the words in the training set."
   ]
  },
  {
   "cell_type": "markdown",
   "metadata": {},
   "source": [
    "* Download python wheel Python-Levenstein from <http://www.lfd.uci.edu/~gohlke/pythonlibs/#python-levenshtein>\n",
    "* Install it with pip intall [wheel-name].\n",
    "* Levenstein distance can now be computed as Levenshtein.distance(source, target)"
   ]
  },
  {
   "cell_type": "code",
   "execution_count": 2,
   "metadata": {},
   "outputs": [],
   "source": [
    "import Levenshtein  "
   ]
  },
  {
   "cell_type": "code",
   "execution_count": 3,
   "metadata": {
    "collapsed": true
   },
   "outputs": [],
   "source": [
    "import sklearn as skl"
   ]
  },
  {
   "cell_type": "code",
   "execution_count": 4,
   "metadata": {
    "collapsed": true
   },
   "outputs": [],
   "source": [
    "with open('Data/en.txt') as f:\n",
    "    english = f.readlines()\n",
    "    \n",
    "with open('Data/fr.txt') as f:\n",
    "    french = f.readlines()"
   ]
  },
  {
   "cell_type": "code",
   "execution_count": 5,
   "metadata": {},
   "outputs": [
    {
     "data": {
      "text/plain": [
       "(164144, 191448)"
      ]
     },
     "execution_count": 5,
     "metadata": {},
     "output_type": "execute_result"
    }
   ],
   "source": [
    "len(english), len(french)"
   ]
  },
  {
   "cell_type": "code",
   "execution_count": 8,
   "metadata": {},
   "outputs": [],
   "source": [
    "np.random.seed(0)"
   ]
  },
  {
   "cell_type": "code",
   "execution_count": 9,
   "metadata": {},
   "outputs": [
    {
     "data": {
      "text/plain": [
       "['twist\\n', 'author\\n', 'charles\\n', 'dickens\\n']"
      ]
     },
     "execution_count": 9,
     "metadata": {},
     "output_type": "execute_result"
    }
   ],
   "source": [
    "english[:4]"
   ]
  },
  {
   "cell_type": "code",
   "execution_count": 10,
   "metadata": {},
   "outputs": [
    {
     "data": {
      "text/plain": [
       "['des\\n', 'mati\\n', 'res\\n', 'chapitre\\n']"
      ]
     },
     "execution_count": 10,
     "metadata": {},
     "output_type": "execute_result"
    }
   ],
   "source": [
    "french[:4]"
   ]
  },
  {
   "cell_type": "code",
   "execution_count": 12,
   "metadata": {},
   "outputs": [],
   "source": [
    "np.random.seed(0)"
   ]
  },
  {
   "cell_type": "code",
   "execution_count": 14,
   "metadata": {},
   "outputs": [],
   "source": [
    "np.random.shuffle(english)"
   ]
  },
  {
   "cell_type": "code",
   "execution_count": 15,
   "metadata": {
    "collapsed": true
   },
   "outputs": [],
   "source": [
    "np.random.shuffle(french)"
   ]
  },
  {
   "cell_type": "markdown",
   "metadata": {},
   "source": [
    "#### Forming train and test sets for your task."
   ]
  },
  {
   "cell_type": "code",
   "execution_count": 16,
   "metadata": {
    "collapsed": true
   },
   "outputs": [],
   "source": [
    "N1 = 15000\n",
    "N2 = 500\n",
    "X_train = english[:N1]+french[:N1]\n",
    "Y_train = [1]*N1 + [2]*N1\n",
    "X_test = english[N1:N1+N2]+french[N1:N1+N2]\n",
    "Y_test = [1]*N2 + [2]*N2"
   ]
  },
  {
   "cell_type": "code",
   "execution_count": 20,
   "metadata": {},
   "outputs": [],
   "source": [
    "inds = np.arange(len(X_train)) \n",
    "inds = np.random.permutation(inds)\n",
    "X_train = [X_train[ind] for ind in inds]\n",
    "Y_train = [Y_train[ind] for ind in inds]\n",
    "\n",
    "inds = np.arange(len(X_test))\n",
    "inds = np.random.permutation(inds)\n",
    "X_test = [X_test[ind] for ind in inds]\n",
    "Y_test = [Y_test[ind] for ind in inds]"
   ]
  },
  {
   "cell_type": "markdown",
   "metadata": {},
   "source": [
    "#### Implement KNN class having constructor, fit(X,Y), predict_one(x) and predict(X) methods.\n",
    "\n",
    "* constructor should have parameter K\n",
    "* predict_one(x) predicts class for single object\n",
    "* predict(X) predicts class for each row of X\n",
    "\n",
    "You will need this class, because default implementation of K-NN \n",
    "requires objects to be numeric vectors and your objects are strings."
   ]
  },
  {
   "cell_type": "code",
   "execution_count": 285,
   "metadata": {
    "collapsed": true
   },
   "outputs": [],
   "source": [
    "import operator"
   ]
  },
  {
   "cell_type": "code",
   "execution_count": 420,
   "metadata": {},
   "outputs": [],
   "source": [
    "class KNN:\n",
    "    def __init__(self, k):\n",
    "        self.k = k\n",
    "    \n",
    "    def fit(self, X, Y, word):\n",
    "        distances = [[Levenshtein.distance(word, x), y] for x, y in zip(X, Y)]\n",
    "        distances.sort(key=lambda x: x[0])\n",
    "        return distances\n",
    "    \n",
    "    def predict_one(self, x):\n",
    "        knn = self.fit(X_train, Y_train, x)[:self.k]\n",
    "        counts = {1:0, 2:0}\n",
    "        for dist, y in knn:\n",
    "            counts[y] += 1*(1/np.exp(dist))\n",
    "        counts_sorted = sorted(counts.items(), key=operator.itemgetter(1), reverse=True)\n",
    "        return counts_sorted[0][0]\n",
    "    \n",
    "    def predict(self, X):\n",
    "        y = []\n",
    "        for x in X:\n",
    "            y.append(self.predict_one(x))\n",
    "        self.y = y"
   ]
  },
  {
   "cell_type": "markdown",
   "metadata": {},
   "source": [
    "#### For K=[1,3,5,7,11,21] estimate accuracy of your KNN and plot the dependency between K and accuracy."
   ]
  },
  {
   "cell_type": "markdown",
   "metadata": {},
   "source": [
    "#### What value of K is optimal? Explain"
   ]
  },
  {
   "cell_type": "code",
   "execution_count": 437,
   "metadata": {
    "collapsed": true
   },
   "outputs": [],
   "source": [
    "Ks = [1, 3, 5, 7, 11, 21]\n",
    "accuracies = []\n",
    "for k in Ks:\n",
    "    classifier = KNN(k)\n",
    "    classifier.predict(X_test)\n",
    "    accuracies.append(accuracy_score(classifier.y, Y_test))"
   ]
  },
  {
   "cell_type": "code",
   "execution_count": 438,
   "metadata": {},
   "outputs": [
    {
     "data": {
      "text/plain": [
       "[<matplotlib.lines.Line2D at 0x2aae11beb38>]"
      ]
     },
     "execution_count": 438,
     "metadata": {},
     "output_type": "execute_result"
    },
    {
     "data": {
      "image/png": "[encoded data removed]",
      "text/plain": [
       "<matplotlib.figure.Figure at 0x2aae04fb1d0>"
      ]
     },
     "metadata": {},
     "output_type": "display_data"
    }
   ],
   "source": [
    "plt.plot(Ks, accuracies)"
   ]
  },
  {
   "cell_type": "code",
   "execution_count": 447,
   "metadata": {},
   "outputs": [
    {
     "data": {
      "text/plain": [
       "[0.91700000000000004,\n",
       " 0.92900000000000005,\n",
       " 0.92100000000000004,\n",
       " 0.91900000000000004,\n",
       " 0.92000000000000004,\n",
       " 0.90800000000000003]"
      ]
     },
     "execution_count": 447,
     "metadata": {},
     "output_type": "execute_result"
    }
   ],
   "source": [
    "accuracies"
   ]
  },
  {
   "cell_type": "markdown",
   "metadata": {},
   "source": [
    "#### The most optimal value appeared to be 3. That is because it takes enough nearest neigbours to compare with and get information from. But not too much to get to another clusters and blur borders between them. p.s. I also added weights to the counter in KNN.predict_one() so that those vectors with smaller distance had more influence on the final result."
   ]
  }
 ],
 "metadata": {
  "kernelspec": {
   "display_name": "Python 3",
   "language": "python",
   "name": "python3"
  },
  "language_info": {
   "codemirror_mode": {
    "name": "ipython",
    "version": 3
   },
   "file_extension": ".py",
   "mimetype": "text/x-python",
   "name": "python",
   "nbconvert_exporter": "python",
   "pygments_lexer": "ipython3",
   "version": "3.6.2"
  }
 },
 "nbformat": 4,
 "nbformat_minor": 2
}
