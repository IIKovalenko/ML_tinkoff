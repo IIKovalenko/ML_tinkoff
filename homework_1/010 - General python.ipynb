{
 "cells": [
  {
   "cell_type": "markdown",
   "metadata": {},
   "source": [
    "# Basic python skills test"
   ]
  },
  {
   "cell_type": "markdown",
   "metadata": {},
   "source": [
    "### Please write your first and last name here: Gleb Sinyakov"
   ]
  },
  {
   "cell_type": "markdown",
   "metadata": {},
   "source": [
    "All tasks should be done in this notebook below the cell with \n",
    "problem statement. \n",
    "\n",
    "You can use any external tools or modules if you like.\n",
    "\n",
    "Assert statements, veryfying that your progam returns what is expected, should all return true."
   ]
  },
  {
   "cell_type": "code",
   "execution_count": 47,
   "metadata": {},
   "outputs": [
    {
     "name": "stdout",
     "output_type": "stream",
     "text": [
      "Populating the interactive namespace from numpy and matplotlib\n"
     ]
    },
    {
     "name": "stderr",
     "output_type": "stream",
     "text": [
      "c:\\users\\sinyakov\\documents\\python2.7\\lib\\site-packages\\IPython\\core\\magics\\pylab.py:161: UserWarning: pylab import has clobbered these variables: ['text', 'copy']\n",
      "`%matplotlib` prevents importing * from pylab and numpy\n",
      "  \"\\n`%matplotlib` prevents importing * from pylab and numpy\"\n"
     ]
    }
   ],
   "source": [
    "%pylab inline"
   ]
  },
  {
   "cell_type": "markdown",
   "metadata": {},
   "source": [
    "### Task 1"
   ]
  },
  {
   "cell_type": "markdown",
   "metadata": {},
   "source": [
    "Write the function **get_divisors(x)**, which returns a list of all numbers which are divisors of x, starting from 2 and except x itself. If none of divisors are available (x is prime), empty list is returned."
   ]
  },
  {
   "cell_type": "code",
   "execution_count": 48,
   "metadata": {
    "collapsed": true
   },
   "outputs": [],
   "source": [
    "def get_divisors(x):\n",
    "    divisors = [number for number in xrange(2, x) if not x%number]\n",
    "    return divisors"
   ]
  },
  {
   "cell_type": "code",
   "execution_count": 49,
   "metadata": {
    "collapsed": true
   },
   "outputs": [],
   "source": [
    "assert get_divisors(12)==[2, 3, 4, 6]\n",
    "\n",
    "assert get_divisors(153)==[3, 9, 17, 51]\n",
    "\n",
    "assert get_divisors(1213)==[]"
   ]
  },
  {
   "cell_type": "markdown",
   "metadata": {},
   "source": [
    "### Task 2"
   ]
  },
  {
   "cell_type": "markdown",
   "metadata": {},
   "source": [
    "Write the function **get_sorted_full_names(full_names)**, which gets list of strings of full names (full name = \"<first name> <last name>\") and returns the same strings in sorted order, where each string is first sorted by last name and then by first name"
   ]
  },
  {
   "cell_type": "code",
   "execution_count": 50,
   "metadata": {
    "collapsed": true
   },
   "outputs": [],
   "source": [
    "def get_sorted_full_names(full_names):\n",
    "    full_names.sort(key=lambda x: [x.split(' ')[1], x.split(' ')[0]])\n",
    "    return full_names"
   ]
  },
  {
   "cell_type": "code",
   "execution_count": 51,
   "metadata": {
    "collapsed": true
   },
   "outputs": [],
   "source": [
    "full_names=['Andrey Larin','Natalia Rostova','Denis Davidov','Denis Bolkonskiy','Sonya Larina','Sonya Rostova','Anastasia Rostova']\n",
    "\n",
    "assert get_sorted_full_names(full_names) == ['Denis Bolkonskiy', 'Denis Davidov', 'Andrey Larin', 'Sonya Larina', 'Anastasia Rostova',\n",
    "                                             'Natalia Rostova', 'Sonya Rostova']"
   ]
  },
  {
   "cell_type": "markdown",
   "metadata": {},
   "source": [
    "### Task 3"
   ]
  },
  {
   "cell_type": "markdown",
   "metadata": {},
   "source": [
    "Make a function **word_counter(text)**, obtaining sequence of words, separated by spaces and/or punctuation marks ,:!.?- and returning a dictionary with keys=unique words and values=how many times words appeared in the text. Uniqueness should be case-sensitive."
   ]
  },
  {
   "cell_type": "code",
   "execution_count": 52,
   "metadata": {
    "collapsed": true
   },
   "outputs": [],
   "source": [
    "import string"
   ]
  },
  {
   "cell_type": "code",
   "execution_count": 53,
   "metadata": {
    "collapsed": true
   },
   "outputs": [],
   "source": [
    "def word_counter(text):\n",
    "    for symbol in string.punctuation:\n",
    "        text = text.replace(symbol, '')\n",
    "    words = text.split()\n",
    "    word_dict = {word:0 for word in words}\n",
    "    for word in words:\n",
    "        word_dict[word] += 1\n",
    "    return word_dict"
   ]
  },
  {
   "cell_type": "code",
   "execution_count": 54,
   "metadata": {},
   "outputs": [],
   "source": [
    "assert word_counter('The man we saw, saw a saw. The saw, that the man saw, was dangerous.') == {'The': 2, 'a': 1, 'dangerous': 1, \n",
    "                                                                                                'man': 2,  'saw': 5,  'that': 1,\n",
    "                                                                                                'the': 1, 'was': 1, 'we': 1}"
   ]
  },
  {
   "cell_type": "markdown",
   "metadata": {},
   "source": [
    "### Task 4"
   ]
  },
  {
   "cell_type": "markdown",
   "metadata": {},
   "source": [
    "Write a python generator **seven_divisible(n)** which would iterate the numbers, which are divisible by 7, in the range 0,1,...,n-1.\n"
   ]
  },
  {
   "cell_type": "code",
   "execution_count": 55,
   "metadata": {
    "collapsed": true
   },
   "outputs": [],
   "source": [
    "import math"
   ]
  },
  {
   "cell_type": "code",
   "execution_count": 56,
   "metadata": {
    "collapsed": true
   },
   "outputs": [],
   "source": [
    "def seven_divisible(n):\n",
    "    generator = (x*7 for x in range(0, int(math.ceil(n/7.0))))\n",
    "    return generator"
   ]
  },
  {
   "cell_type": "code",
   "execution_count": 57,
   "metadata": {
    "collapsed": true
   },
   "outputs": [],
   "source": [
    "import types\n",
    "\n",
    "assert type(seven_divisible(25))==types.GeneratorType\n",
    "\n",
    "assert list(seven_divisible(21))==[0, 7, 14]\n",
    "\n",
    "assert list(seven_divisible(25))==[0, 7, 14, 21]"
   ]
  },
  {
   "cell_type": "markdown",
   "metadata": {},
   "source": [
    "### Task 5"
   ]
  },
  {
   "cell_type": "markdown",
   "metadata": {},
   "source": [
    "Correct the code, so that code is would work as expected by assert statement. Explain unintuitive initial result."
   ]
  },
  {
   "cell_type": "markdown",
   "metadata": {},
   "source": [
    "Explanation:\n",
    "В питоне списки, словари и множества являются изменяемыми типами данных. Это значит, что создавая словарь А и присваивая A новой переменной B, B теперь ссылается на тот же объект, что и переменная А, а не создает новый такой же, соответственно изменения в B приведут к изменениям в А. Чтобы создать новый обьект, нужно использовать функцию copy(), либо указать двоеточие в массиве."
   ]
  },
  {
   "cell_type": "code",
   "execution_count": 58,
   "metadata": {
    "collapsed": true
   },
   "outputs": [],
   "source": [
    "import copy"
   ]
  },
  {
   "cell_type": "code",
   "execution_count": 59,
   "metadata": {},
   "outputs": [],
   "source": [
    "A={'Lagos':15, 'Ankara':5,'Hong-Kong':7}\n",
    "B=copy.copy(A)\n",
    "A['Moscow']=12"
   ]
  },
  {
   "cell_type": "code",
   "execution_count": 60,
   "metadata": {},
   "outputs": [],
   "source": [
    "assert 'Moscow' not in B"
   ]
  },
  {
   "cell_type": "code",
   "execution_count": 61,
   "metadata": {},
   "outputs": [],
   "source": [
    "A=[1,2,3]\n",
    "B=A[:]\n",
    "A.append(4)"
   ]
  },
  {
   "cell_type": "code",
   "execution_count": 62,
   "metadata": {},
   "outputs": [],
   "source": [
    "assert 4 not in B"
   ]
  },
  {
   "cell_type": "markdown",
   "metadata": {},
   "source": [
    "### Task 6"
   ]
  },
  {
   "cell_type": "markdown",
   "metadata": {},
   "source": [
    "A robot moves in a plane starting from the original point (0,0). The robot can move toward UP, DOWN, LEFT and RIGHT. \n",
    "The numbers after the direction are steps. Please write a function **get_dist(movement)** to compute the distance from current position after \n",
    "a sequence of movement and original point. Movement is given in format \"<DIRECTON> <STEP> <DIRECTON> <STEP> ...\" where <DIRECTION> may be UP,DOWN,RIGHT,LEFT and STEP is a float."
   ]
  },
  {
   "cell_type": "code",
   "execution_count": 63,
   "metadata": {
    "collapsed": true
   },
   "outputs": [],
   "source": [
    "def get_dist(string):\n",
    "    data = string.split(' ')\n",
    "    direction_dict = {'UP': 0,\n",
    "                      'RIGHT': 0,\n",
    "                      'DOWN': 0, \n",
    "                      'LEFT': 0}\n",
    "    for idx, direction in enumerate(data):\n",
    "        if not idx%2:\n",
    "            direction_dict[direction] += int(data[idx+1])\n",
    "    \n",
    "    dist = sqrt((direction_dict['UP'] - direction_dict['DOWN'])**2 + (direction_dict['RIGHT'] - direction_dict['LEFT'])**2)\n",
    "    return dist"
   ]
  },
  {
   "cell_type": "code",
   "execution_count": 64,
   "metadata": {
    "collapsed": true
   },
   "outputs": [],
   "source": [
    "assert get_dist('UP 2 RIGHT 2 DOWN 2')==2\n",
    "\n",
    "assert get_dist('UP 1 RIGHT 1 DOWN 2 LEFT 2')==sqrt(2)\n",
    "\n",
    "assert get_dist('UP 1 RIGHT 1 DOWN 2 LEFT 2 UP 1')==1"
   ]
  }
 ],
 "metadata": {
  "kernelspec": {
   "display_name": "Python 2",
   "language": "python",
   "name": "python2"
  },
  "language_info": {
   "codemirror_mode": {
    "name": "ipython",
    "version": 2
   },
   "file_extension": ".py",
   "mimetype": "text/x-python",
   "name": "python",
   "nbconvert_exporter": "python",
   "pygments_lexer": "ipython2",
   "version": "2.7.13"
  }
 },
 "nbformat": 4,
 "nbformat_minor": 1
}
